{
 "cells": [
  {
   "cell_type": "markdown",
   "metadata": {
    "collapsed": true
   },
   "source": [
    "d_triazole.csv"
   ]
  },
  {
   "cell_type": "code",
   "execution_count": 48,
   "metadata": {
    "collapsed": false
   },
   "outputs": [
    {
     "name": "stdout",
     "output_type": "stream",
     "text": [
      "2000\n"
     ]
    }
   ],
   "source": [
    "f = open('d_triazole.csv')   ################################ input file (드래곤 결과파일)\n",
    "item = f.readline()\n",
    "item = item.split()\n",
    "print len(item)"
   ]
  },
  {
   "cell_type": "code",
   "execution_count": 49,
   "metadata": {
    "collapsed": false,
    "scrolled": true
   },
   "outputs": [],
   "source": [
    "import pandas as pd\n",
    "import numpy as np\n",
    "csv_file =  pd.read_csv('d_triazole.csv',sep='\\t') ####################### input file\n",
    "csv_headr = list(csv_file.columns.values)\n",
    "A = csv_file.isnull().any()\n",
    "for fact in enumerate(A) :\n",
    "    if fact[1] == True :\n",
    "        col_Nan = csv_headr[fact[0]]\n",
    "        del csv_file[col_Nan]\n",
    "        \n",
    "csv_file.to_csv(\"t_2.csv\", sep=\",\") ######################## remove non\n",
    "test_data=pd.read_csv('t_2.csv')  ####################### remove non"
   ]
  },
  {
   "cell_type": "code",
   "execution_count": 50,
   "metadata": {
    "collapsed": false
   },
   "outputs": [],
   "source": [
    "data_CN = (test_data-test_data.mean())/(test_data.max()-test_data.min())"
   ]
  },
  {
   "cell_type": "code",
   "execution_count": 51,
   "metadata": {
    "collapsed": true
   },
   "outputs": [],
   "source": [
    "import pandas as pd\n",
    "import numpy as np\n",
    "from pandas import DataFrame, Series\n",
    "\n",
    "data_NN=data_CN.ix[:,3:]   #id와 분자 이름 날리기 -> 디스크립터만 남기기 [:,3:]\n",
    "\n",
    "\n",
    "name = list(data_NN.columns.values)\n"
   ]
  },
  {
   "cell_type": "code",
   "execution_count": 52,
   "metadata": {
    "collapsed": false
   },
   "outputs": [
    {
     "name": "stdout",
     "output_type": "stream",
     "text": [
      "AMW\n",
      "CIC0\n",
      "MATS7e\n"
     ]
    }
   ],
   "source": [
    "#triazole physico-chemical properties\n",
    "Melting_point = ['X1A','GGI4','R2e','F03[N-N]']\n",
    "Octanol_water_partition = ['nN','MATS1v','GATS3m','B08[C-C]']\n",
    "Vapour_pressure = ['B09[N-Cl]','RBN','SpMin2_Bh(p)'] \n",
    "Aqueous_solubility = ['AMW','CIC0','MATS7e']\n",
    "\n",
    "picdes = Aqueous_solubility\n",
    "\n",
    "for u in picdes :\n",
    "    if u in name :\n",
    "        print u"
   ]
  },
  {
   "cell_type": "code",
   "execution_count": 53,
   "metadata": {
    "collapsed": false
   },
   "outputs": [
    {
     "name": "stdout",
     "output_type": "stream",
     "text": [
      "\u001b[1;46mAMW : 0.236394227018\u001b[0m\n",
      "\u001b[1;46mCIC0 : 0.328788000946\u001b[0m\n",
      "\u001b[1;46mMATS7e : 21.9301092152\u001b[0m\n"
     ]
    },
    {
     "data": {
      "image/png": "[encoded data removed]",
      "text/plain": [
       "<matplotlib.figure.Figure at 0x9680b70>"
      ]
     },
     "metadata": {},
     "output_type": "display_data"
    }
   ],
   "source": [
    "import scipy.stats.stats as st\n",
    "aa =st.kurtosis(data_NN,axis=0)\n",
    "ku = aa.tolist()\n",
    "%matplotlib inline\n",
    "#%matplotlib nbagg          \n",
    "for i in picdes :\n",
    "    aa = \"\"\n",
    "    ae =st.kurtosis(data_NN[i].values,axis=0)\n",
    "    aa = \"\"+i+\" : \"+str(ae)\n",
    "    print('\\x1b[1;46m'+aa+'\\x1b[0m')\n",
    "    \n",
    "\n",
    "import numpy as np\n",
    "import matplotlib.pyplot as plt\n",
    "fig = plt.figure()\n",
    "ax = fig.add_subplot(111) \n",
    "numBins = 100  #BAR의 갯수\n",
    "ax.hist(ku,numBins,color='green',alpha=0.5) \n",
    "plt.show()"
   ]
  },
  {
   "cell_type": "code",
   "execution_count": 42,
   "metadata": {
    "collapsed": true
   },
   "outputs": [],
   "source": [
    "import scipy.stats.stats as st\n",
    "\n",
    "def kurtosis (inf,value1,value2) :\n",
    "    \n",
    "    header = list(inf.columns.values)   # 디스크립터 항목만 빼내기\n",
    "\n",
    "# print header\n",
    "    col_kur= {}\n",
    "\n",
    "    for i in header :\n",
    "        col_kur[i] = [st.kurtosis(inf[i],axis=0)]\n",
    "\n",
    "    a = 0 \n",
    "    b = 0\n",
    "    for i in col_kur :\n",
    "        b = b+1\n",
    "        if value2 < col_kur[i][0]:\n",
    "            a = a +1 \n",
    "            del inf[i]\n",
    "        if value1 > col_kur[i][0]:\n",
    "            a = a +1 \n",
    "            del inf[i]\n",
    "        \n",
    "\n",
    "\n",
    "    return 'remain=',b-a"
   ]
  },
  {
   "cell_type": "code",
   "execution_count": 54,
   "metadata": {
    "collapsed": false
   },
   "outputs": [
    {
     "data": {
      "text/plain": [
       "('remain=', 1490)"
      ]
     },
     "execution_count": 54,
     "metadata": {},
     "output_type": "execute_result"
    }
   ],
   "source": [
    "kurtosis(data_NN,0,22)"
   ]
  },
  {
   "cell_type": "code",
   "execution_count": 57,
   "metadata": {
    "collapsed": true
   },
   "outputs": [],
   "source": [
    "corre = data_NN.corr()"
   ]
  },
  {
   "cell_type": "code",
   "execution_count": 58,
   "metadata": {
    "collapsed": true
   },
   "outputs": [],
   "source": [
    "from scipy.spatial.distance import pdist\n",
    "from scipy.cluster.hierarchy import linkage, dendrogram\n",
    "from scipy.cluster.hierarchy import fcluster\n",
    "import pandas\n",
    "def set_cluster(nod) :\n",
    "    assignments = fcluster(linkage(corre, method='complete'),nod,'distance')  # 숫자가 단계인듯..............?\n",
    "    # print assignments\n",
    "    cluster_output = pandas.DataFrame({'Descriptor':list(data_NN.columns.values) , 'cluster':assignments})\n",
    "    nc = list(cluster_output.cluster.values)\n",
    "    nnc = max(nc)\n",
    "    vc = list(cluster_output.Descriptor.values)\n",
    "    clu = {}\n",
    "    for i in range(0,len(nc)):\n",
    "        k = vc[i]\n",
    "        v = nc[i]\n",
    "        clu[k] = v\n",
    "    \n",
    "    for t in range(1,nnc+1):\n",
    "        vv = []\n",
    "        vv = [key for key, value in clu.iteritems() if value == t]    #Find Key by Value in Dictionary\n",
    "        print '\\n','\\x1b[1;46m'+'Cluster'+'\\x1b[0m',t,vv,\n",
    "        for y in picdes :\n",
    "            if y in vv :\n",
    "                b = '\\x1b[1;43m'+y+'\\x1b[0m'\n",
    "                print b"
   ]
  },
  {
   "cell_type": "code",
   "execution_count": 67,
   "metadata": {
    "collapsed": false,
    "scrolled": false
   },
   "outputs": [
    {
     "name": "stdout",
     "output_type": "stream",
     "text": [
      "\n",
      "\u001b[1;46mCluster\u001b[0m 1 ['Gu', 'Gm', 'ChiA_D', 'ChiA_G', 'Vindex', 'VE2_B(v)', 'R2e+', 'HATS2e', 'HATS2u', 'WiA_B(m)', 'R4i+', 'Chi_G', 'SpMaxA_EA(bo)', 'VE2_Dt', 'VE2_B(e)', 'VE2_RG', 'G1i', 'WiA_B(s)', 'RTe+', 'VE2_D/Dt', 'WiA_G/D', 'TDB02m', 'TDB02v', 'TDB02p', 'R2u+', 'VE2_B(p)', 'HATS0e', 'HATS0u', 'R4e+', 'Mor21u', 'Mor21v', 'Mor21m', 'TDB03m', 'TDB03e', 'TDB03u', 'TDB03v', 'TDB03p', 'RTu+', 'HATS1u', 'Chi_Dz(p)', 'VE2_Dz(v)', 'SpMaxA_B(s)', 'R4u+', 'SpMaxA_AEA(dm)', 'ChiA_Dz(v)', 'Mor18u', 'Mor18i', 'Mor05i', 'Mor05m', 'SpMaxA_EA', 'VE2_B(s)', 'TDB01s', 'TDB01p', 'TDB01m', 'VE2_Dz(p)', 'CATS2D_01_DA', 'Mor05u', 'SHP2', 'N%', 'WiA_RG', 'Chi_D', 'VE2_X', 'Psi_i_1d', 'VE2_A', 'VE2_G', 'VE2_D', 'G1m', 'G1e', 'G1v', 'G1u', 'G1s', 'G1p', 'ChiA_H2', 'VE2_G/D', 'Yindex', 'R1u+', 'TDB04u', 'TDB04r', 'TDB04i', 'TDB04e', 'Xt', 'G3u', 'G3m', 'ChiA_Dt', 'VE2_B(m)', 'F01[N-N]', 'Xindex', 'Psi_i_t', 'R5u+', 'R5i+', 'SpMaxA_B(m)', 'HGM', 'LLS_01', 'Chi_D/Dt', 'Chi_Dz(e)', 'Chi_Dz(Z)', 'VE2_H2', 'Chi_Dz(v)', 'SpMaxA_EA(ed)', 'ChiA_RG', 'ChiA_D/Dt', 'ChiA_Dz(Z)', 'Mor03i', 'Mor03e', 'Mor03u', 'Mor03v', 'Mor03p'] \n",
      "\u001b[1;46mCluster\u001b[0m 2 ['X5A', 'AVS_B(v)', 'C-028', 'AVS_B(e)', 'SaaaC', 'MATS6p', 'MATS6s', 'MATS6v', 'MATS6i', 'MATS6m', 'MATS6e', 'NaaaC', 'SpPosA_L', 'SpMAD_B(m)', 'GATS2s', 'Eta_betaP_A', 'SpMAD_B(p)', 'Eta_beta_A', 'SpMAD_EA(bo)', 'SpMAD_B(v)', 'ARR', 'HNar', 'AVS_B(p)'] \n",
      "\u001b[1;46mCluster\u001b[0m 3 ['RFD', 'Mor13m', 'R1s+', 'R6u+', 'MATS1v', 'HATS3i', 'HATS3e', 'HATS3u', 'Hy', 'TDB02s', 'MATS7p', 'Mor21s', 'TDB03s', 'HATS1s', 'PDI', 'P_VSA_e_3', 'Mor23p', 'Mor23v', 'GATS5v', 'GATS5m', 'HATS4s', 'SpPosA_B(i)', 'GATS4v', 'HATS5u', 'HATS5i', 'HATS5e', 'TDB04v', 'TDB04p', 'TDB04s', 'nR09', 'R5e+', 'P_VSA_s_5', 'Mor17s', 'Rbrid', 'Mor29p', 'Mor29s', 'Mor29u', 'Mor29v', 'Mor29m', 'R3e+', 'R6e+'] \n",
      "\u001b[1;46mCluster\u001b[0m 4 ['MATS3s', 'MATS3e', 'E2s', 'B05[N-N]', 'MEcc', 'CATS2D_02_AP', 'F03[N-N]', 'D/Dtr09', 'SsNH2', 'nN=C-N<', 'nCconj', 'nPyrimidines', 'Mor06u', 'Mor06e', 'B04[O-O]', 'C-031', 'C-038', 'C-005', 'Mi', 'MATS7s', 'MATS7e', 'NdssC', 'N-074', 'N-072', 'nCONN', 'P_VSA_LogP_2', 'F02[N-N]', 'nN', 'nHDon', 'SsssN', 'F04[N-N]', 'R4s+', 'NssNH', 'CATS2D_04_DA', 'SdsN', 'C-041', 'T(N..N)', 'Mor16v', 'Mor16p', 'Mor16m', 'NsssN', 'CATS2D_02_DA', 'F05[N-N]', 'Mor10m'] \u001b[1;43mMATS7e\u001b[0m\n",
      "\n",
      "\u001b[1;46mCluster\u001b[0m 5 ['HATS2v', 'HATS2p', 'Mor12s', 'HATS3m', 'HATS3v', 'HATS3p', 'HATS0m', 'HATS0p', 'HATS0v', 'Mp', 'MATS7i', 'R2v+', 'HATS1v', 'HATS1p', 'HATS1m', 'R1m+', 'R3m+', 'R3p+', 'Mor23m', 'GATS2i', 'R2p+', 'HATS4v', 'HATS4p', 'R2m+', 'GATS4p', 'GATS4m', 'TDB04m', 'AMW', 'Mor28p', 'RTm+', 'Mor28e', 'MATS8i', 'Mor28v', 'Mor28u', 'Mor28i', 'R1v+', 'AVS_B(m)', 'R3v+', 'R1p+'] \u001b[1;43mAMW\u001b[0m\n",
      "\n",
      "\u001b[1;46mCluster\u001b[0m 6 ['Mor18p', 'Mor18s', 'Mor18v', 'Mor18m', 'Mor23s', 'Mor08v', 'GATS5s', 'GATS5e', 'HATS4u', 'HATS4e', 'REIG', 'LLS_02', 'Mor08p', 'J_Dz(e)', 'Mor24u', 'Mor24e', 'Mor24i', 'J_D', 'J_Dz(Z)', 'Mor32s', 'Mor32m', 'Mor03s'] \n",
      "\u001b[1;46mCluster\u001b[0m 7 ['GATS1m', 'SpPosA_RG', 'GATS2p', 'GATS2m', 'MATS8v'] \n",
      "\u001b[1;46mCluster\u001b[0m 8 ['Mor26s', 'GATS3p', 'MATS1p', 'MATS1i', 'SM1_Dz(v)', 'SdssC', 'SsssCH', 'SpPosA_B(p)', 'GATS1e', 'GATS3i', 'Mor09p', 'GATS2e', 'Mor09v', 'Mor09s', 'Mor09m', 'GATS4e', 'SM1_Dz(p)', 'SpPosA_B(v)', 'Mor14s'] \n",
      "\u001b[1;46mCluster\u001b[0m 9 ['G2', 'RDF050s', 'Eig12_AEA(ri)', 'GMTIV', 'Eta_F', 'RDF025s', 'SpDiam_Dz(p)', 'RDF065s', 'RDF060m', 'Eig13_AEA(bo)', 'MAXDN', 'VE1_D/Dt', 'SM04_EA(bo)', 'HATS8s', 'ATSC8s', 'ATSC8e', 'RDF030s', 'ATSC8i', 'SM08_AEA(bo)', 'RDF040s', 'H2s', 'D/Dtr06', 'Mor01s', 'Eig02_AEA(dm)', 'L1s', 'Eig03_AEA(ed)', 'H3m', 'H3s', 'Mor20p', 'ZM2Kup', 'TI1_L', 'ZM2Mad', 'SpMax_AEA(dm)', 'H4m', 'H4s', 'RDF075s', 'piPC03', 'SM4_B(m)', 'SM03_EA(bo)', 'Eig11_AEA(bo)', 'TDB10m', 'Eig14_AEA(bo)', 'ATSC3i', 'QW_L', 'ZM1V', 'H5m', 'RTm', 'RTs', 'SpMax5_Bh(s)', 'piID', 'Mor04s', 'Chi0_EA(dm)', 'Ds', 'H6s', 'Chi1_EA(dm)', 'ATSC2i', 'H_Dz(Z)', 'H8s', 'RDF035s', 'SM12_AEA(dm)', 'R8m', 'R8s', 'CENT', 'ATSC1i', 'SMTIV', 'R6s', 'HTm', 'HTs', 'HATS7s', 'H7s', 'HATSe', 'HATSv', 'IC1', 'TDB06s', 'ZM2V', 'X5sol', 'QZZm', 'QZZs', 'RDF080m', 'R7m', 'R7s', 'SM1_Dz(e)', 'RDF080s', 'ATSC7s', 'ATSC7e', 'TDB07s', 'TDB07m', 'RDF070s', 'RDF070m', 'ZM1Kup', 'X5', 'ATS2s', 'RDF055s', 'RDF055m', 'Wap', 'ATSC6s', 'ATSC6e', 'RDF060s', 'Eig12_AEA(bo)', 'NaasC', 'R5m', 'Eig11_AEA(dm)', 'SM06_AEA(bo)', 'QYYs', 'QYYm', 'HyWi_B(s)', 'P_VSA_m_3', 'ATSC5e', 'ATSC5s', 'SpMax3_Bh(s)', 'P_VSA_s_6', 'Ts', 'F05[C-O]', 'DELS', 'Eig11_AEA(ri)', 'Psi_i_s', 'EE_B(m)', 'SpMax4_Bh(s)', 'GGI9', 'GGI8', 'GGI3', 'GGI4', 'GGI7', 'X4sol', 'TDB08s', 'ATSC4e', 'ATSC4s', 'TDB08m', 'Eig03_AEA(dm)', 'AVS_Dt', 'Wi_Dz(Z)', 'Wi_Dt', 'SM1_B(s)', 'TDB09s', 'Eta_FL', 'F04[C-O]', 'RDF085s', 'SMTI', 'SpMax6_Bh(s)', 'TIE', 'Eta_beta', 'SM6_B(m)', 'H0v', 'H0e'] \n",
      "\u001b[1;46mCluster\u001b[0m 10 ['Eig04_AEA(ed)', 'Eig02_AEA(bo)', 'J_RG', 'SPI', 'Mor25u', 'Mor25v', 'Mor25p', 'Mor25m', 'ATS7s', 'WiA_D/Dt', 'ATS7v', 'ATS7m', 'ATS7e', 'H1p', 'H1u', 'H1v', 'H1i', 'H1e', 'AVS_D/Dt', 'X4v', 'H_Dz(v)', 'G1', 'RDF025m', 'Eta_B', 'SpMax8_Bh(m)', 'SM06_AEA(ed)', 'Eig04_AEA(bo)', 'SpMin7_Bh(v)', 'SM03_AEA(dm)', 'Eig02_EA(ri)', 'SpMax4_Bh(m)', 'ON0', 'VE1_B(s)', 'ATS4m', 'ATS4i', 'ATS4s', 'Ho_Dz(Z)', 'H_Dz(p)', 'DBI', 'X5v', 'HyWi_Dz(e)', 'ATSC8p', 'ATSC8m', 'Eig04_EA(ri)', 'ECC', 'IVDE', 'RDF040p', 'VE1_H2', 'H2u', 'H2v', 'H2p', 'ATS3p', 'H2i', 'H2e', 'SPAN', 'SpPosA_D/Dt', 'Hypertens-80', 'Eig07_EA(bo)', 'Vx', 'Eig13_AEA(ed)', 'SpMax5_Bh(v)', 'AVS_H2', 'RGyr', 'Wi_G', 'Mor01p', 'Eig03_EA(ri)', 'Mor01e', 'Wi_B(m)', 'Mor01m', 'Ho_Dt', 'AVS_Dz(e)', 'ITH', 'Eig14_AEA(ed)', 'ATS5e', 'ATS5m', 'ATS5s', 'RCON', 'SM11_AEA(dm)', 'P_VSA_p_1', 'SM10_AEA(bo)', 'S1K', 'VE1_Dz(v)', 'SpMin3_Bh(s)', 'SpMin2_Bh(e)', 'SM05_AEA(ri)', 'H-047', 'H3e', 'H3i', 'Vm', 'Vp', 'H3p', 'Vs', 'H3v', 'Vu', 'H3u', 'RDF015u', 'Eta_L', 'B06[C-C]', 'Eta_C', 'Dv', 'VE3_G/D', 'SM4_B(p)', 'Wi_D/Dt', 'Chi1_EA(ri)', 'EE_B(e)', 'Mor20u', 'WiA_Dz(p)', 'HyWi_Dz(Z)', 'Mor20e', 'HyWi_G', 'Eig03_AEA(bo)', 'SpAD_AEA(ed)', 'S0K', 'B08[C-N]', 'SM14_AEA(ri)', 'Uindex', 'AVS_Dz(v)', 'P_VSA_i_3', 'P_VSA_i_2', 'Eig09_AEA(ed)', 'L2m', 'SpMin5_Bh(e)', 'P_VSA_e_2', 'L2s', 'L2u', 'L2v', 'CATS2D_01_AA', 'nC', 'WiA_Dz(Z)', 'H4e', 'H4v', 'Ho_Dz(p)', 'H4p', 'SM14_AEA(dm)', 'SpMin6_Bh(e)', 'SM03_EA(ri)', 'piPC01', 'piPC02', 'piPC09', 'X0sol', 'VAR', 'AMR', 'VE3_B(v)', 'X3sol', 'Eig08_AEA(ed)', 'SpMax2_Bh(i)', 'MW', 'SM02_EA(ri)', 'HDcpx', 'SP02', 'Eig09_AEA(dm)', 'SpMin5_Bh(v)', 'SM6_B(p)', 'S3K', 'VE1_Dz(p)', 'Eig12_AEA(ed)', 'SpMax5_Bh(e)', 'TPC', 'VE1_G/D', 'RTe', 'B04[C-C]', 'piPC10', 'SpMax8_Bh(s)', 'RTv', 'RTp', 'SpMin3_Bh(m)', 'SM6_L', 'AVS_Dz(Z)', 'SM3_B(m)', 'SM6_X', 'ATS8m', 'VE1_B(e)', 'ATS8s', 'ATS8v', 'SpMin4_Bh(m)', 'SM14_AEA(bo)', 'SpMin4_Bh(s)', 'Di', 'S2K', 'De', 'Dz', 'Dp', 'R8e+', 'ON1V', 'SpAD_B(m)', 'SpMin2_Bh(v)', 'WiA_G', 'SpMin3_Bh(p)', 'Eig05_AEA(ed)', 'ATSC2p', 'Eig10_AEA(dm)', 'SM06_EA(ri)', 'X1Kup', 'SM6_B(e)', 'ATS3e', 'Ho_RG', 'Eig08_EA(bo)', 'MWC10', 'Eig07_AEA(dm)', 'X2sol', 'HyWi_Dt', 'H_G/D', 'SM04_AEA(dm)', 'H_Dz(e)', 'Eig09_AEA(bo)', 'SpMin7_Bh(m)', 'VE3_B(p)', 'ON0V', 'SM3_D/Dt', 'SpMax4_Bh(v)', 'SM15_AEA(ri)', 'R8e', 'HyWi_B(m)', 'R8p', 'R8v', 'ATSC1p', 'SpMax7_Bh(s)', 'B08[C-C]', 'Eig11_AEA(ed)', 'R2u', 'Eig06_EA(bo)', 'SM04_AEA(bo)', 'R6p', 'R6v', 'SpMin6_Bh(v)', 'HTe', 'HTv', 'HTp', 'B07[C-N]', 'H_Dt', 'MWC06', 'MWC01', 'VE3_B(s)', 'SpMax6_Bh(m)', 'SpDiam_AEA(bo)', 'nSK', 'SpMin8_Bh(m)', 'VE1_B(v)', 'HATSi', 'VE3_B(m)', 'XMOD', 'IC3', 'IC2', 'ICR', 'B04[C-O]', 'SpMax4_Bh(e)', 'SpMax3_Bh(v)', 'TDB06p', 'TDB06v', 'ATSC7m', 'Eta_C_A', 'SpMin2_Bh(p)', 'MDDD', 'X1Mad', 'CATS2D_07_AL', 'Chi1_EA(bo)', 'ALOGP2', 'RDF015s', 'RDF015m', 'Sp', 'Sv', 'SpMax8_Bh(v)', 'Se', 'RDF080e', 'R7p', 'R7v', 'RDF080u', 'RDF075v', 'SM11_AEA(bo)', 'JGI6', 'SpMax2_Bh(m)', 'SpMin4_Bh(v)', 'SM2_RG', 'Ho_D/Dt', 'SpMax6_Bh(v)', 'PJI2', 'Eig08_AEA(bo)', 'SpAD_EA(ri)', 'Ram', 'Wi_RG', 'ATSC7p', 'ATSC7i', 'MPC06', 'MPC05', 'MPC04', 'MPC09', 'MPC08', 'TDB07p', 'TDB07u', 'TDB07v', 'JGI1', 'TDB07e', 'JGI7', 'R4v', 'R4p', 'X2', 'X3', 'SpDiam_X', 'SpMin2_Bh(m)', 'SpDiam_L', 'SpDiam_A', 'SpDiam_G', 'SpMin3_Bh(i)', 'RBN', 'RBF', 'CMC-80', 'Eig05_AEA(dm)', 'SAtot', 'GATS7m', 'GATS7i', 'GATS7v', 'GATS7p', 'X3v', 'IAC', 'PHI', 'RDCHI', 'CATS2D_06_AL', 'SM12_AEA(ri)', 'ATS2e', 'ALOGP', 'JGT', 'MPC10', 'SpMin5_Bh(m)', 'Eig06_AEA(ed)', 'ATSC6p', 'ATSC6i', 'ATSC6m', 'SM03_EA', 'Chi_RG', 'HATS8p', 'SM04_EA(ed)', 'HATS8v', 'IDDE', 'R5p', 'R5v', 'SpMin6_Bh(m)', 'VR3_G', 'P_VSA_v_3', 'Eta_betaS', 'VR1_G', 'QYYp', 'QYYi', 'GATS6i', 'GATS6p', 'GATS6v', 'SM13_AEA(dm)', 'ATSC5i', 'Neoplastic-80', 'SpMin2_Bh(s)', 'SCBO', 'ATS3v', 'ATS3s', 'SM15_AEA(bo)', 'Eig10_AEA(bo)', 'ATS3m', 'SpMax3_Bh(m)', 'SM13_AEA(ri)', 'Tp', 'HyWi_Dz(v)', 'R2i', 'R2e', 'R2v', 'R2p', 'SpAD_EA(ed)', 'X0v', 'Am', 'Ap', 'As', 'SM4_RG', 'Eig05_AEA(bo)', 'Eig07_AEA(ed)', 'J_G/D', 'H_RG', 'SpMax2_Bh(p)', 'TI2_L', 'Mor01v', 'Psi_i_0', 'Psi_i_1', 'WiA_Dz(v)', 'GGI1', 'GGI2', 'GGI5', 'DECC', 'TIC1', 'TIC2', 'SP06', 'SpMax7_Bh(v)', 'X1v', 'SM2_X', 'HIC', 'SNar', 'TDB08p', 'TDB08u', 'ATSC4i', 'TDB08e', 'Eig02_AEA(ed)', 'SpDiam_H2', 'R3i', 'R3e', 'R3u', 'R3v', 'R3p', 'SpMin8_Bh(v)', 'IDE', 'TDB08v', 'SM04_EA(ri)', 'SM12_AEA(bo)', 'Eig08_AEA(dm)', 'SM13_AEA(bo)', 'Eig10_AEA(ed)', 'SM15_AEA(dm)', 'GATS8i', 'GATS8v', 'GATS8p', 'Wi_G/D', 'WiA_Dz(e)', 'ATS1p', 'ATS1s', 'ATS1m', 'Pol', 'Eig15_AEA(ed)', 'ATS2m', 'X2v', 'SpMax7_Bh(m)', 'SpMax5_Bh(m)', 'AVS_G/D', 'Ho_Dz(e)', 'SpMin3_Bh(e)', 'F08[C-C]', 'Eig04_AEA(dm)', 'Eig05_EA(ri)', 'SM02_AEA(dm)', 'SM02_AEA(ri)', 'MLOGP', 'SpMin4_Bh(e)', 'SpMax2_Bh(v)', 'SpMin8_Bh(e)', 'SM1_B(p)', 'VE3_D/Dt', 'ATS6s', 'ATS6v', 'ATS6m', 'ATS6e', 'Eig06_AEA(dm)', 'F07[C-N]', 'DLS_03', 'QXXm', 'QXXi', 'SpMin3_Bh(v)', 'QXXs', 'QXXp', 'H0u', 'H0i', 'R1v', 'R1u', 'VE1_Dt', 'R1p', 'R1e', 'R1i', 'VE1_D', 'VE3_X', 'VE1_G', 'VE1_A', 'E3v', 'E3p', 'SpMin7_Bh(e)', 'E3e', 'SpMax2_Bh(e)', 'MSD', 'X1sol'] \n",
      "\u001b[1;46mCluster\u001b[0m 11 ['MATS3i', 'F07[C-Cl]', 'R5m+', 'HATS8m', 'H2m', 'F05[C-Cl]', 'R8p+', 'R6v+', 'HATS6v', 'F06[C-Cl]', 'R8v+', 'nCL', 'HATS6s', 'HATS6p', 'H6m', 'H8m', 'R6m', 'HATS7m', 'HATSm', 'HATSp', 'TDB06m', 'HATS5m', 'GATS7e', 'GATS7s', 'P_VSA_m_4', 'TDB05r', 'TDB05p', 'TDB05v', 'TDB05m', 'R2m', 'nHM', 'F04[C-Cl]', 'H0p', 'H0m', 'R6s+', 'E3m', 'DISPp'] \n",
      "\u001b[1;46mCluster\u001b[0m 12 ['F09[C-O]', 'F03[N-O]', 'SM05_EA(bo)', 'R8s+', 'F08[C-O]', 'nX', 'piPC04', 'piPC05', 'piPC06', 'piPC08', 'BAC', 'ATSC3e', 'H5s', 'P_VSA_LogP_4', 'T(O..O)', 'SM1_Dz(i)', 'ATSC2s', 'ATSC2e', 'F10[C-F]', 'P_VSA_MR_2', 'ATSC1s', 'ATSC1e', 'B09[N-O]', 'HATSs', 'F09[N-O]', 'R7s+', 'F07[N-O]', 'CATS2D_07_AA', 'RDF100s', 'Eig04_EA(dm)', 'B09[O-O]', 'X%', 'R4s', 'R5s', 'P_VSA_v_2', 'TDB10s', 'B07[N-O]', 'SM06_EA(bo)', 'B04[O-F]', 'R2s', 'F06[C-O]', 'ATSC3s', 'R3s', 'F04[O-F]', 'B10[C-F]', 'Mor16s', 'T(O..F)', 'T(N..O)', 'Mor02s', 'H0s', 'nHAcc', 'G(O..O)'] \n",
      "\u001b[1;46mCluster\u001b[0m 13 ['Mor25s', 'RDF050m', 'RDF105m', 'RDF105s', 'RDF105v', 'RDF105u', 'RDF130e', 'RDF130v', 'RDF130u', 'RDF130p', 'RDF065m', 'SM07_AEA(ri)', 'Mor31s', 'Eig15_AEA(ri)', 'nCar', 'E1s', 'nBnz', 'CATS2D_09_LL', 'RDF125u', 'RDF125v', 'RDF125p', 'RDF125s', 'RDF125e', 'Mor20s', 'CATS2D_08_LL', 'P_VSA_MR_6', 'P_VSA_MR_7', 'Eig13_EA(ri)', 'RDF075m', 'CATS2D_08_AL', 'Mor07p', 'Mor07s', 'Mor07u', 'Mor07v', 'Mor07e', 'Mor07m', 'CATS2D_09_AL', 'RDF135i', 'RDF135e', 'RDF135p', 'RDF135u', 'RDF135v', 'RDF035m', 'Eig13_EA(bo)', 'F10[C-O]', 'RDF090s', 'nAB', 'B10[C-O]', 'F09[C-N]', 'RDF020s', 'SM08_AEA(ri)', 'PJI3', 'Eig12_EA(bo)', 'Mor15m', 'Mor15v', 'Mor15p', 'CATS2D_06_AA', 'F10[C-Cl]', 'F06[O-O]', 'RDF095u', 'RDF095s', 'RDF095m', 'RDF115m', 'RDF115v', 'RDF115u', 'RDF115s', 'RDF115p', 'HOMT', 'G(N..Cl)', 'GGI10', 'P_VSA_m_2', 'B06[O-O]', 'P_VSA_s_3', 'F10[C-C]', 'Eig15_AEA(bo)', 'Uc', 'H7m', 'RDF100v', 'RDF100p', 'RDF100m', 'RDF100e', 'SM06_AEA(dm)', 'T(N..Cl)', 'F10[C-N]', 'Eig13_AEA(ri)', 'F02[C-O]', 'RDF110u', 'RDF145u', 'RDF110v', 'RDF110p', 'RDF110s', 'RDF110m', 'RDF085p', 'RDF085v', 'RDF085m', 'Eig14_AEA(ri)', 'Mor02m', 'Mor02i', 'Mor02u', 'SM05_AEA(dm)', 'RDF120m', 'RDF120v', 'RDF120u', 'RDF120s', 'RDF120p', 'nCsp2', 'CATS2D_03_AL', 'SM07_AEA(dm)'] \n",
      "\u001b[1;46mCluster\u001b[0m 14 ['SpMax_B(m)', 'MATS1s', 'MATS1e', 'F06[O-Cl]', 'nCIR', 'P_VSA_LogP_6', 'SpDiam_B(m)', 'HATS6e', 'HATS6i', 'B04[N-Cl]', 'MATS4e', 'MATS4s', 'R6m+', 'R5p+', 'HATS5p', 'HATS5v', 'T(Cl..Cl)', 'R6p+', 'nCsp', 'Mor28m', 'R7e+', 'nTB', 'SpPosA_B(m)', 'VR2_A', 'R7u+', 'nRCN', 'R5v+'] \n",
      "\u001b[1;46mCluster\u001b[0m 15 ['CATS2D_06_DA', 'B06[N-N]', 'B08[N-F]', 'SpMAD_EA(dm)', 'nArOR', 'B05[O-Cl]', 'E2m', 'nCRX3', 'B03[N-Cl]', 'B09[F-Cl]', 'nRCOOR', 'MATS2v', 'MATS2p', 'T(F..Cl)', 'F05[C-F]', 'F08[N-O]', 'HATS2s', 'F02[C-F]', 'C-013', 'C-010', 'Eig15_EA(bo)', 'E1e', 'B10[F-Cl]', 'Eig14_EA(ri)', 'B04[C-F]', 'SM09_AEA(ri)', 'F07[N-F]', 'F09[C-F]', 'P_VSA_p_2', 'C-029', 'HATS3s', 'R3s+', 'B02[N-S]', 'T(O..Cl)', 'SM09_AEA(dm)', 'B07[N-F]', 'Mor06s', 'P_VSA_i_4', 'F03[C-F]', 'nF', 'HATS0s', 'T(N..F)', 'F-082', 'F-083', 'F-084', 'CATS2D_08_AA', 'PCD', 'P1s', 'H-051', 'Eig15_EA(ri)', 'B02[N-F]', 'SpMax_B(i)', 'B07[O-O]', 'F02[N-F]', 'nArCOOR', 'P_VSA_LogP_5', 'SpMax1_Bh(e)', 'O-058', 'B06[C-F]', 'SM08_AEA(dm)', 'F02[F-F]', 'F01[C-N]', 'F07[C-F]', 'F04[C-F]', 'O-060', 'T(S..Cl)', 'SpDiam_EA(bo)', 'B08[N-O]', 'F01[C-S]', 'F04[S-Cl]', 'B06[N-F]', 'F02[C-S]', 'B05[N-F]', 'F06[C-F]', 'F05[O-Cl]', 'GATS5p', 'MATS4i', 'nSO2N', 'SpMax_B(v)', 'nRSR', 'F06[N-Cl]', 'B07[O-Cl]', 'B02[C-S]', 'SpMAD_AEA(dm)', 'SpMAD_B(s)', 'F02[N-S]', 'F02[C-N]', 'SpMax_B(e)', 'TPSA(Tot)', 'F08[N-F]', 'HATS5s', 'TPSA(NO)', 'B03[O-Cl]', 'SpMax1_Bh(i)', 'R5s+', 'SpAD_EA(dm)', 'R2s+', 'B04[S-Cl]', 'F06[N-O]', 'F08[C-F]', 'SM10_EA(bo)', 'SpMax_EA(bo)', 'B05[O-S]', 'F10[F-Cl]', 'GATS6e', 'GATS6m', 'GATS6s', 'TDB05s', 'B02[C-F]', 'AVS_B(s)', 'C-044', 'C-040', 'C-043', 'Psi_i_A', 'T(F..F)', 'B01[C-F]', 'RTs+', 'F03[C-N]', 'S-110', 'Eig03_EA(dm)', 'Ks', 'Mor16e', 'SpDiam_B(v)', 'F05[N-Cl]', 'F07[O-Cl]', 'B03[N-F]', 'F09[O-Cl]', 'B02[F-F]', 'B09[O-Cl]', 'Eig14_EA(bo)', 'F02[N-O]', 'F07[F-Cl]', 'B09[N-F]', 'CATS2D_03_AA', 'SM10_AEA(ri)', 'DISPi', 'F03[F-F]', 'DISPe', 'DISPs'] \n",
      "\u001b[1;46mCluster\u001b[0m 16 ['Infective-80', 'RDF025u', 'SpMin1_Bh(v)', 'E1v', 'D/Dtr05', 'SpDiam_AEA(ri)', 'VR2_G', 'SM15_EA', 'CIC1', 'CIC0', 'C-025', 'RDF030u', 'GATS1v', 'RDF020v', 'RDF020e', 'RDF020i', 'L3m', 'L3v', 'L3u', 'L3s', 'ATSC3p', 'ATSC3m', 'SpMin1_Bh(m)', 'H5u', 'P_VSA_LogP_7', 'ISH', 'H6p', 'ATSC2v', 'SpMax_L', 'MATS5e', 'MATS5m', 'MATS5s', 'R6e', 'HATS7u', 'HATS7e', 'P_VSA_e_1', 'TDB06u', 'R8u+', 'TDB06e', 'TDB06i', 'R8i+', 'RDF020u', 'SpMax_AEA(ri)', 'DLS_02', 'Inflammat-80', 'F05[C-N]', 'SpMin1_Bh(p)', 'HATS8u', 'HATS8e', 'SpMin7_Bh(s)', 'ATSC5p', 'P_VSA_s_4', 'SpMin1_Bh(s)', 'SpMin1_Bh(e)', 'HOMA', 'CATS2D_05_AL', 'ATSC4m', 'ATSC4p', 'GATS8m', 'CATS2D_04_AL', 'F04[C-N]', 'E3s'] \u001b[1;43mCIC0\u001b[0m\n",
      "\n",
      "\u001b[1;46mCluster\u001b[0m 17 ['nCbH', 'CATS2D_06_DL', 'MATS2i', 'SpMax1_Bh(v)', 'C%', 'NaaCH', 'Mor04u', 'Mor04m', 'Mor04e', 'MATS5v', 'MATS4m', 'MATS4p', 'MATS4v', 'Mor11s', 'SaaCH'] \n",
      "\u001b[1;46mCluster\u001b[0m 18 ['SpMax1_Bh(p)', 'X5Av', 'MATS2s', 'MATS2e', 'CATS2D_02_AA', 'MATS1m', 'Eta_alpha_A', 'GATS1p', 'X3Av', 'B04[N-S]', 'nS', 'F06[C-S]', 'B02[C-O]', 'H-052', 'B03[N-O]', 'J_Dt', 'X4Av', 'P_VSA_LogP_1', 'B01[C-O]', 'Eta_sh_p', 'X2Av', 'GATS5i', 'C-032', 'F02[O-O]', 'BLI', 'MATS2m', 'RDF020p', 'G(O..S)', 'F05[C-S]', 'JGI5', 'F07[C-S]', 'F04[N-O]', 'X0Av', 'SssO', 'T(O..S)', 'B03[C-O]', 'P_VSA_s_1', 'B07[C-S]', 'CATS2D_05_AA', 'CATS2D_04_AA', 'F04[N-S]', 'F05[N-O]', 'F04[C-S]', 'F03[C-S]', 'T(N..S)', 'B05[N-S]'] \n",
      "\u001b[1;46mCluster\u001b[0m 19 ['C-009', 'B03[C-P]', 'O-059', 'C-019', 'C-016', 'B06[O-S]', 'B03[O-O]', 'P_VSA_p_4', 'P_VSA_i_1', 'nP', 'P_VSA_MR_8', 'GATS1i', 'P1m', 'ChiA_B(p)', 'L/Bw', 'GATS3m', 'F01[S-P]', 'H-048', 'F07[C-P]', 'F01[O-P]', 'B04[O-S]', 'RDF020m', 'B08[C-S]', 'Mor09u', 'Mor09i', 'Mor09e', 'B07[C-P]', 'SssS', 'nOHs', 'F05[C-P]', 'nPO4', 'B06[N-S]', 'B06[S-Cl]', 'nR10', 'F03[N-P]', 'B08[C-P]', 'X1A', 'nR=Cs', 'Km', 'F03[C-P]', 'S-107', 'ChiA_B(v)', 'F02[O-S]', 'Mor24s', 'T(N..P)'] \n",
      "\u001b[1;46mCluster\u001b[0m 20 ['ChiA_X', 'C-008', 'C-003', 'C-002', 'Mor13s', 'SaasC', 'C-012', 'C-011', 'F10[N-Cl]', 'SssCH2', 'Mor27s', 'SRW07', 'SRW05', 'nCrs', 'N-075', 'nCs', 'nCt', 'GATS3e', 'Mor19s', 'NsssCH', 'Mor22m', 'Mor22u', 'Mor22v', 'Mor22s', 'ChiA_B(m)', 'P_VSA_MR_5', 'MATS5i', 'MATS5p', 'Mor08s', 'B04[O-Cl]', 'F08[N-Cl]', 'B10[N-Cl]', 'F04[O-Cl]', 'nOHt', 'Mor15s', 'nR05', 'nROR', 'Mor17m', 'nTriazoles', 'MATS8s', 'SM5_X', 'nCrt', 'nCrq', 'CATS2D_04_DL', 'ChiA_B(e)']\n"
     ]
    }
   ],
   "source": [
    "set_cluster(15)"
   ]
  },
  {
   "cell_type": "code",
   "execution_count": null,
   "metadata": {
    "collapsed": true
   },
   "outputs": [],
   "source": []
  }
 ],
 "metadata": {
  "kernelspec": {
   "display_name": "Python 2",
   "language": "python",
   "name": "python2"
  },
  "language_info": {
   "codemirror_mode": {
    "name": "ipython",
    "version": 2
   },
   "file_extension": ".py",
   "mimetype": "text/x-python",
   "name": "python",
   "nbconvert_exporter": "python",
   "pygments_lexer": "ipython2",
   "version": "2.7.11"
  }
 },
 "nbformat": 4,
 "nbformat_minor": 0
}
